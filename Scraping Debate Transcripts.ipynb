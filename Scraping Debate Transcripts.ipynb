{
 "cells": [
  {
   "cell_type": "markdown",
   "metadata": {},
   "source": [
    "# Scraping Debate Transcripts"
   ]
  },
  {
   "cell_type": "code",
   "execution_count": 1,
   "metadata": {},
   "outputs": [],
   "source": [
    "from bs4 import BeautifulSoup\n",
    "\n",
    "import numpy as np\n",
    "import pandas as pd\n",
    "import re\n",
    "import requests"
   ]
  },
  {
   "cell_type": "markdown",
   "metadata": {},
   "source": [
    "## List out links to the pages containing the transcripts\n",
    "These transcripts have been created by *Rev: https://www.rev.com/*  \n",
    "**Disclaimer: I am not affiliated with this company and do not claim ownership of their data**"
   ]
  },
  {
   "cell_type": "code",
   "execution_count": 2,
   "metadata": {},
   "outputs": [],
   "source": [
    "# All Transcript Links\n",
    "\n",
    "transcript_links = [\n",
    "    \"https://www.rev.com/blog/transcripts/new-hampshire-democratic-debate-transcript\",\n",
    "    \"https://www.rev.com/blog/transcripts/january-iowa-democratic-debate-transcript\",\n",
    "    \"https://www.rev.com/blog/transcripts/december-democratic-debate-transcript-sixth-debate-from-los-angeles\",\n",
    "    \"https://www.rev.com/blog/transcripts/november-democratic-debate-transcript-atlanta-debate-transcript\",\n",
    "    \"https://www.rev.com/blog/transcripts/october-democratic-debate-transcript-4th-debate-from-ohio\",\n",
    "    \"https://www.rev.com/blog/transcripts/democratic-debate-transcript-houston-september-12-2019\",\n",
    "    \"https://www.rev.com/blog/transcripts/transcript-of-july-democratic-debate-2nd-round-night-2-full-transcript-july-31-2019\",\n",
    "    \"https://www.rev.com/blog/transcripts/transcript-of-july-democratic-debate-night-1-full-transcript-july-30-2019\",\n",
    "    \"https://www.rev.com/blog/transcripts/transcript-from-night-2-of-the-2019-democratic-debates\",\n",
    "    \"https://www.rev.com/blog/transcripts/transcript-from-first-night-of-democratic-debates\"\n",
    "]"
   ]
  },
  {
   "cell_type": "markdown",
   "metadata": {},
   "source": [
    "## Create function to extract needed info\n",
    "They all have a similar structure, and most everything we need is found in a `p` tag called `fl-callout-text`.  "
   ]
  },
  {
   "cell_type": "code",
   "execution_count": 3,
   "metadata": {},
   "outputs": [],
   "source": [
    "# We'll be scraping some info from the structure\n",
    "# Speaker: (HH:MM:SS) Text here\n",
    "# Where the 'HH:' is optional\n",
    "patterns = {'speaker': '^[^\\(\\):\\[\\]]+:',\n",
    "            'time': '^\\((\\d{2}:)?\\d{2}:\\d{2}\\)'}\n",
    "\n",
    "def get_transcript(transcript_link):\n",
    "    response = requests.get(transcript_link)\n",
    "    soup = BeautifulSoup(response.text, 'html.parser')\n",
    "    # Get the name of the debate\n",
    "    debate_name = soup.find('span', class_='fl-heading-text').text\n",
    "    # The main content\n",
    "    content = soup.find('div', class_='fl-callout-text')\n",
    "    # Keep a record of the current section\n",
    "    # By default, we call the section \"Entire Debate\"\n",
    "    section = 'Entire Debate'\n",
    "    data = []\n",
    "    for item in content:\n",
    "        # h2 or p\n",
    "        item_type = item.name\n",
    "        # h2 -> this is a section header\n",
    "        if item_type == 'h2':\n",
    "            section = item.text\n",
    "        # p -> this is some speech from a candidate/moderator\n",
    "        elif item_type == 'p':\n",
    "            # Hold all data for current item\n",
    "            item_data = {'debate': debate_name, 'section': section}\n",
    "            text = item.text\n",
    "            # for each pattern\n",
    "            for pattern_name, pattern in patterns.items():\n",
    "                # try to find the pattern\n",
    "                match_obj = re.match(pattern, text)\n",
    "                # if it exists, add it to `item_data` and lstrip from the string\n",
    "                if match_obj:\n",
    "                    match_str = match_obj.group(0)\n",
    "                    item_data[pattern_name] = match_str\n",
    "                    text = text.lstrip(match_str).strip()\n",
    "                # add the remaining text after the patterns have been removed\n",
    "                item_data['speech'] = text\n",
    "            data.append(item_data)\n",
    "    return data"
   ]
  },
  {
   "cell_type": "markdown",
   "metadata": {},
   "source": [
    "## Call this function for each link, and put all of the results in `df`"
   ]
  },
  {
   "cell_type": "code",
   "execution_count": 14,
   "metadata": {},
   "outputs": [],
   "source": [
    "transcript_data = []"
   ]
  },
  {
   "cell_type": "code",
   "execution_count": 15,
   "metadata": {},
   "outputs": [],
   "source": [
    "for link in transcript_links:\n",
    "    transcript_data += get_transcript(link)"
   ]
  },
  {
   "cell_type": "code",
   "execution_count": 16,
   "metadata": {
    "scrolled": false
   },
   "outputs": [
    {
     "data": {
      "text/html": [
       "<div>\n",
       "<style scoped>\n",
       "    .dataframe tbody tr th:only-of-type {\n",
       "        vertical-align: middle;\n",
       "    }\n",
       "\n",
       "    .dataframe tbody tr th {\n",
       "        vertical-align: top;\n",
       "    }\n",
       "\n",
       "    .dataframe thead th {\n",
       "        text-align: right;\n",
       "    }\n",
       "</style>\n",
       "<table border=\"1\" class=\"dataframe\">\n",
       "  <thead>\n",
       "    <tr style=\"text-align: right;\">\n",
       "      <th></th>\n",
       "      <th>debate</th>\n",
       "      <th>section</th>\n",
       "      <th>speaker</th>\n",
       "      <th>speech</th>\n",
       "      <th>time</th>\n",
       "    </tr>\n",
       "  </thead>\n",
       "  <tbody>\n",
       "    <tr>\n",
       "      <th>0</th>\n",
       "      <td>New Hampshire Democratic Debate Transcript</td>\n",
       "      <td>Entire Debate</td>\n",
       "      <td>George S.</td>\n",
       "      <td>Candidates, welcome. Vice President Biden, the...</td>\n",
       "      <td>(00:14)</td>\n",
       "    </tr>\n",
       "    <tr>\n",
       "      <th>1</th>\n",
       "      <td>New Hampshire Democratic Debate Transcript</td>\n",
       "      <td>Entire Debate</td>\n",
       "      <td>Joe Biden</td>\n",
       "      <td>Oh, they didn’t miss anything. It’s a long rac...</td>\n",
       "      <td>(00:32)</td>\n",
       "    </tr>\n",
       "    <tr>\n",
       "      <th>2</th>\n",
       "      <td>New Hampshire Democratic Debate Transcript</td>\n",
       "      <td>Entire Debate</td>\n",
       "      <td>George S.</td>\n",
       "      <td>Why are Senator Sanders and Mayor Buttigieg to...</td>\n",
       "      <td>(01:08)</td>\n",
       "    </tr>\n",
       "    <tr>\n",
       "      <th>3</th>\n",
       "      <td>New Hampshire Democratic Debate Transcript</td>\n",
       "      <td>Entire Debate</td>\n",
       "      <td>Joe Biden</td>\n",
       "      <td>Well, you know that with regard to Senator San...</td>\n",
       "      <td>(01:12)</td>\n",
       "    </tr>\n",
       "    <tr>\n",
       "      <th>4</th>\n",
       "      <td>New Hampshire Democratic Debate Transcript</td>\n",
       "      <td>Entire Debate</td>\n",
       "      <td>George S.</td>\n",
       "      <td>Senator Sanders, let me give you the chance to...</td>\n",
       "      <td>(01:53)</td>\n",
       "    </tr>\n",
       "  </tbody>\n",
       "</table>\n",
       "</div>"
      ],
      "text/plain": [
       "                                       debate        section    speaker  \\\n",
       "0  New Hampshire Democratic Debate Transcript  Entire Debate  George S.   \n",
       "1  New Hampshire Democratic Debate Transcript  Entire Debate  Joe Biden   \n",
       "2  New Hampshire Democratic Debate Transcript  Entire Debate  George S.   \n",
       "3  New Hampshire Democratic Debate Transcript  Entire Debate  Joe Biden   \n",
       "4  New Hampshire Democratic Debate Transcript  Entire Debate  George S.   \n",
       "\n",
       "                                              speech     time  \n",
       "0  Candidates, welcome. Vice President Biden, the...  (00:14)  \n",
       "1  Oh, they didn’t miss anything. It’s a long rac...  (00:32)  \n",
       "2  Why are Senator Sanders and Mayor Buttigieg to...  (01:08)  \n",
       "3  Well, you know that with regard to Senator San...  (01:12)  \n",
       "4  Senator Sanders, let me give you the chance to...  (01:53)  "
      ]
     },
     "execution_count": 16,
     "metadata": {},
     "output_type": "execute_result"
    }
   ],
   "source": [
    "df = pd.DataFrame(transcript_data)\n",
    "# From the patterns above, our speaker name has a ':', we'll strip that out\n",
    "df['speaker'] = df.speaker.apply(lambda name: name.rstrip(':').strip() if not pd.isnull(name) else name)\n",
    "df.head()"
   ]
  },
  {
   "cell_type": "markdown",
   "metadata": {},
   "source": [
    "## Basic Initial Data Quality Check"
   ]
  },
  {
   "cell_type": "code",
   "execution_count": 17,
   "metadata": {},
   "outputs": [
    {
     "name": "stdout",
     "output_type": "stream",
     "text": [
      "<class 'pandas.core.frame.DataFrame'>\n",
      "RangeIndex: 4821 entries, 0 to 4820\n",
      "Data columns (total 5 columns):\n",
      "debate     4821 non-null object\n",
      "section    4821 non-null object\n",
      "speaker    4814 non-null object\n",
      "speech     4821 non-null object\n",
      "time       4324 non-null object\n",
      "dtypes: object(5)\n",
      "memory usage: 188.4+ KB\n"
     ]
    }
   ],
   "source": [
    "df.info()"
   ]
  },
  {
   "cell_type": "markdown",
   "metadata": {},
   "source": [
    "### Where are the missing speakers?\n",
    "It looks like these are opening remarks or empty speech elements, so we can safely drop them"
   ]
  },
  {
   "cell_type": "code",
   "execution_count": 18,
   "metadata": {},
   "outputs": [
    {
     "data": {
      "text/html": [
       "<div>\n",
       "<style scoped>\n",
       "    .dataframe tbody tr th:only-of-type {\n",
       "        vertical-align: middle;\n",
       "    }\n",
       "\n",
       "    .dataframe tbody tr th {\n",
       "        vertical-align: top;\n",
       "    }\n",
       "\n",
       "    .dataframe thead th {\n",
       "        text-align: right;\n",
       "    }\n",
       "</style>\n",
       "<table border=\"1\" class=\"dataframe\">\n",
       "  <thead>\n",
       "    <tr style=\"text-align: right;\">\n",
       "      <th></th>\n",
       "      <th>debate</th>\n",
       "      <th>section</th>\n",
       "      <th>speaker</th>\n",
       "      <th>speech</th>\n",
       "      <th>time</th>\n",
       "    </tr>\n",
       "  </thead>\n",
       "  <tbody>\n",
       "    <tr>\n",
       "      <th>326</th>\n",
       "      <td>January Iowa Democratic Debate Transcript</td>\n",
       "      <td>Entire Debate</td>\n",
       "      <td>NaN</td>\n",
       "      <td>All right, so let’s begin right now. Just this...</td>\n",
       "      <td>NaN</td>\n",
       "    </tr>\n",
       "    <tr>\n",
       "      <th>2294</th>\n",
       "      <td>September Houston Democratic Debate Transcript...</td>\n",
       "      <td>Part 1: Gun Control, Healthcare, Criminal Justice</td>\n",
       "      <td>NaN</td>\n",
       "      <td></td>\n",
       "      <td>NaN</td>\n",
       "    </tr>\n",
       "    <tr>\n",
       "      <th>3065</th>\n",
       "      <td>Transcript of July Democratic Debate 2nd Round...</td>\n",
       "      <td>Entire Debate</td>\n",
       "      <td>NaN</td>\n",
       "      <td>We also have a full transcript of the Democrat...</td>\n",
       "      <td>NaN</td>\n",
       "    </tr>\n",
       "    <tr>\n",
       "      <th>3066</th>\n",
       "      <td>Transcript of July Democratic Debate 2nd Round...</td>\n",
       "      <td>Entire Debate</td>\n",
       "      <td>NaN</td>\n",
       "      <td></td>\n",
       "      <td>NaN</td>\n",
       "    </tr>\n",
       "    <tr>\n",
       "      <th>3341</th>\n",
       "      <td>Transcript of July Democratic Debate 2nd Round...</td>\n",
       "      <td>Part 1: Opening Statements, Taxes, Health Insu...</td>\n",
       "      <td>NaN</td>\n",
       "      <td></td>\n",
       "      <td>NaN</td>\n",
       "    </tr>\n",
       "    <tr>\n",
       "      <th>3712</th>\n",
       "      <td>Transcript of July Democratic Debate 2nd Round...</td>\n",
       "      <td>Part 4: Closing Statements</td>\n",
       "      <td>NaN</td>\n",
       "      <td></td>\n",
       "      <td>NaN</td>\n",
       "    </tr>\n",
       "    <tr>\n",
       "      <th>3713</th>\n",
       "      <td>Transcript from Night 2 of the First 2019 June...</td>\n",
       "      <td>Entire Debate</td>\n",
       "      <td>NaN</td>\n",
       "      <td>Presidential candidates Joe Biden, Bernie Sand...</td>\n",
       "      <td>NaN</td>\n",
       "    </tr>\n",
       "  </tbody>\n",
       "</table>\n",
       "</div>"
      ],
      "text/plain": [
       "                                                 debate  \\\n",
       "326           January Iowa Democratic Debate Transcript   \n",
       "2294  September Houston Democratic Debate Transcript...   \n",
       "3065  Transcript of July Democratic Debate 2nd Round...   \n",
       "3066  Transcript of July Democratic Debate 2nd Round...   \n",
       "3341  Transcript of July Democratic Debate 2nd Round...   \n",
       "3712  Transcript of July Democratic Debate 2nd Round...   \n",
       "3713  Transcript from Night 2 of the First 2019 June...   \n",
       "\n",
       "                                                section speaker  \\\n",
       "326                                       Entire Debate     NaN   \n",
       "2294  Part 1: Gun Control, Healthcare, Criminal Justice     NaN   \n",
       "3065                                      Entire Debate     NaN   \n",
       "3066                                      Entire Debate     NaN   \n",
       "3341  Part 1: Opening Statements, Taxes, Health Insu...     NaN   \n",
       "3712                         Part 4: Closing Statements     NaN   \n",
       "3713                                      Entire Debate     NaN   \n",
       "\n",
       "                                                 speech time  \n",
       "326   All right, so let’s begin right now. Just this...  NaN  \n",
       "2294                                                     NaN  \n",
       "3065  We also have a full transcript of the Democrat...  NaN  \n",
       "3066                                                     NaN  \n",
       "3341                                                     NaN  \n",
       "3712                                                     NaN  \n",
       "3713  Presidential candidates Joe Biden, Bernie Sand...  NaN  "
      ]
     },
     "execution_count": 18,
     "metadata": {},
     "output_type": "execute_result"
    }
   ],
   "source": [
    "df.loc[pd.isnull(df.speaker)]"
   ]
  },
  {
   "cell_type": "code",
   "execution_count": 19,
   "metadata": {},
   "outputs": [],
   "source": [
    "df = df.loc[~pd.isnull(df.speaker)].reset_index(drop=True)"
   ]
  },
  {
   "cell_type": "markdown",
   "metadata": {},
   "source": [
    "## We also had some missing values in `time`\n",
    "These are all coming from `Transcript from Night 1 of the 2019 June Democratic Debates`.  \n",
    "Upon checking the link, the site did not post times for this debate"
   ]
  },
  {
   "cell_type": "code",
   "execution_count": 20,
   "metadata": {},
   "outputs": [
    {
     "data": {
      "text/plain": [
       "Transcript from Night 1 of the 2019 June Democratic Debates    490\n",
       "Name: debate, dtype: int64"
      ]
     },
     "execution_count": 20,
     "metadata": {},
     "output_type": "execute_result"
    }
   ],
   "source": [
    "df.loc[pd.isnull(df.time)].debate.value_counts()"
   ]
  },
  {
   "cell_type": "markdown",
   "metadata": {},
   "source": [
    "## Define Function to parse out times `(HH:MM:SS)` -> `n_seconds` (int)\n",
    "These aren't very helpful - represent them in seconds instead"
   ]
  },
  {
   "cell_type": "code",
   "execution_count": 21,
   "metadata": {},
   "outputs": [],
   "source": [
    "def parse_time_seconds(time_string):\n",
    "    if time_string and ':' in time_string:\n",
    "        ord_time = time_string[1:-1].split(':')[::-1]\n",
    "        n_seconds = 0\n",
    "        for i, time_measurement in enumerate(ord_time):\n",
    "            n_seconds += int(time_measurement)*(60**i)\n",
    "        return n_seconds\n",
    "    return None"
   ]
  },
  {
   "cell_type": "markdown",
   "metadata": {},
   "source": [
    "## Parse out these times as seconds, and estimate the Speaking Time\n",
    "The times we get out of our `parse_time_seconds` are the number of seconds into the debate.  \n",
    "As an example, `(01:05:20)` would mean that we are 1 hour, 5 minutes, and 20 seconds into the debate.  \n",
    "Parsing this to seconds gives us `n_seconds = 3920`.  \n",
    "But we need the amount each speaker spends speaking...Lets do that below"
   ]
  },
  {
   "cell_type": "code",
   "execution_count": 22,
   "metadata": {},
   "outputs": [],
   "source": [
    "# We group by debate and section, because for each section, the time resets. Sometimes,\n",
    "# The sections aren't labeled, and the time just resets...we'll deal with this.\n",
    "for (debate, section), debate_section_df in df.groupby(by=['debate', 'section']):\n",
    "    \n",
    "    # Earlier, we noted that this debate has no times, we'll skip it\n",
    "    if debate != 'Transcript from Night 1 of the 2019 June Democratic Debates':\n",
    "        \n",
    "        # get the index of this debate section\n",
    "        index = debate_section_df.index\n",
    "        \n",
    "        # apply the function we created above\n",
    "        time_seconds = debate_section_df.time.apply(parse_time_seconds).values\n",
    "        df.loc[index, 'time_seconds'] = time_seconds\n",
    "        \n",
    "        # find the time diff, and append a `np.nan` to the end for the final speaking time.\n",
    "        # Unfortunately, we have no idea how long they're speaking for. It is always a\n",
    "        # Moderator's closing statements though, so it won't affect our analysis.\n",
    "        time_diff = time_seconds[1:]-time_seconds[:-1]\n",
    "        \n",
    "        # Above, we mentioned that sometimes sections aren't labeled...\n",
    "        # This means that sometimes the time in seconds just drops\n",
    "        # i.e. [... 3700 3800 25 70 ...]\n",
    "        # in terms of the `time_diff`, this results in the first number\n",
    "        # after the drop being negative...let's fix that\n",
    "        if (time_diff < 0).any():\n",
    "            \n",
    "            # break into sections\n",
    "            section_breaks = np.where(time_diff < 0)[0]\n",
    "            sections = np.split(index, section_breaks)\n",
    "            \n",
    "            # for each section, set it individually\n",
    "            for i, section in enumerate(sections):\n",
    "                df.loc[section, 'section'] = 'Part {}'.format(i+1)\n",
    "                time_seconds = df.loc[section, 'time_seconds'].values\n",
    "                time_diff = time_seconds[1:]-time_seconds[:-1]\n",
    "                total_speaking_time = np.concatenate([time_diff, np.array([np.nan])])\n",
    "                df.loc[section, 'total_speaking_time'] = total_speaking_time\n",
    "        else:\n",
    "            total_speaking_time = np.concatenate([time_diff, np.array([np.nan])])\n",
    "            df.loc[index, 'total_speaking_time'] = total_speaking_time"
   ]
  },
  {
   "cell_type": "markdown",
   "metadata": {},
   "source": [
    "## Do some cleaning on the Speaker Names\n",
    "Sometimes, the source is inconsistent on the speaker names...  \n",
    "That's okay - we can make a quick mapping dictionary that clears up the inconsistencies"
   ]
  },
  {
   "cell_type": "code",
   "execution_count": 23,
   "metadata": {},
   "outputs": [],
   "source": [
    "mapping_dct = {'Abby P': 'Abby Phillips',\n",
    "               'Abby Phillip': 'Abby Phillips',\n",
    "               'Amna': 'Amna Nawaz',\n",
    "               'Amy Klobachar': 'Amy Klobuchar',\n",
    "               'Bennet': 'Michael Bennet',\n",
    "               'Bill De Blasio': 'Bill de Blasio',\n",
    "               'Brianne P': 'Brianne P.',\n",
    "               'David': 'David Muir',\n",
    "               'E. Warren': 'Elizabeth Warren',\n",
    "               'Elizabeth W': 'Elizabeth Warren',\n",
    "               'Elizabeth W.': 'Elizabeth Warren',\n",
    "               'Elizabeth Warre': 'Elizabeth Warren',\n",
    "               'George S': 'George S.',\n",
    "               'Gillibrand': 'Kirsten Gillibrand',\n",
    "               'Kirsten G.': 'Kirsten Gillibrand',\n",
    "               'Kristen Gillibr': 'Kirseten Gillibrand',\n",
    "               'John H': 'John H.',\n",
    "               'Jose': 'Jose D.B.',\n",
    "               'Jose D. B.': 'Jose D.B.',\n",
    "               'Judy': 'Judy Woodruff',\n",
    "               'Lindsey': 'Linsey Davis',\n",
    "               'M. Williamson': 'Marianne Williamson',\n",
    "               'Marianne W.': 'Marianne Williamson',\n",
    "               'Marianne Willia': 'Marianne Williamson',\n",
    "               'Mayor Buttigieg': 'Pete Buttigieg',\n",
    "               'Mayor de Blasio': 'Bill de Blasio',\n",
    "               'Ms. Williamson': 'Marianne Williamson',\n",
    "               'Savannah': 'Savannah G.',\n",
    "               'Savanagh G': 'Savannah G.',\n",
    "               'Sen Klobuchar': 'Amy Klobuchar',\n",
    "               'Senator Bennet': 'Michael Bennet',\n",
    "               'Senator Booker': 'Cory Booker',\n",
    "               'Senator Warren': 'Elizabeth Warren',\n",
    "               'Yamiche': 'Yamiche A.',\n",
    "               'Yang': 'Andrew Yang'}"
   ]
  },
  {
   "cell_type": "code",
   "execution_count": 24,
   "metadata": {},
   "outputs": [],
   "source": [
    "df['speaker'] = df.speaker.apply(lambda name: mapping_dct.get(name) if name in mapping_dct else name)"
   ]
  },
  {
   "cell_type": "markdown",
   "metadata": {},
   "source": [
    "## `time` and `time_seconds` aren't so useful to me\n",
    "I'm more concerned about how much time each speaker spends speaking, which I'll rename to `speaking_time_seconds`"
   ]
  },
  {
   "cell_type": "code",
   "execution_count": 25,
   "metadata": {},
   "outputs": [],
   "source": [
    "df = df.drop(['time', 'time_seconds'], axis=1)\n",
    "df.columns = ['debate_name', 'debate_section', 'speaker', 'speech', 'speaking_time_seconds']"
   ]
  },
  {
   "cell_type": "code",
   "execution_count": 29,
   "metadata": {},
   "outputs": [
    {
     "name": "stdout",
     "output_type": "stream",
     "text": [
      "<class 'pandas.core.frame.DataFrame'>\n",
      "RangeIndex: 4814 entries, 0 to 4813\n",
      "Data columns (total 5 columns):\n",
      "debate_name              4814 non-null object\n",
      "debate_section           4814 non-null object\n",
      "speaker                  4814 non-null object\n",
      "speech                   4814 non-null object\n",
      "speaking_time_seconds    4303 non-null float64\n",
      "dtypes: float64(1), object(4)\n",
      "memory usage: 188.1+ KB\n"
     ]
    }
   ],
   "source": [
    "df.info()"
   ]
  },
  {
   "cell_type": "code",
   "execution_count": 34,
   "metadata": {},
   "outputs": [],
   "source": [
    "df = df.loc[df.speech!='']"
   ]
  },
  {
   "cell_type": "code",
   "execution_count": 35,
   "metadata": {},
   "outputs": [],
   "source": [
    "df.to_csv('../data/debate_transcripts.csv', encoding='cp1252', index=False)"
   ]
  }
 ],
 "metadata": {
  "kernelspec": {
   "display_name": "Python 3",
   "language": "python",
   "name": "python3"
  },
  "language_info": {
   "codemirror_mode": {
    "name": "ipython",
    "version": 3
   },
   "file_extension": ".py",
   "mimetype": "text/x-python",
   "name": "python",
   "nbconvert_exporter": "python",
   "pygments_lexer": "ipython3",
   "version": "3.6.5"
  }
 },
 "nbformat": 4,
 "nbformat_minor": 2
}
